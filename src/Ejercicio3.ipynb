{
 "cells": [
  {
   "cell_type": "code",
   "execution_count": 9,
   "id": "5237e42f",
   "metadata": {},
   "outputs": [],
   "source": [
    "from nn import Layer, NN\n",
    "import numpy as np\n",
    "import matplotlib.pyplot as plt"
   ]
  },
  {
   "cell_type": "markdown",
   "id": "5abce5ad",
   "metadata": {},
   "source": [
    "*Función Lógica \"XOR\":* Se verifica que poniendo una capa no-lineal se tiene una correcta salida del problema."
   ]
  },
  {
   "cell_type": "code",
   "execution_count": 2,
   "id": "fadd174d",
   "metadata": {},
   "outputs": [
    {
     "name": "stdout",
     "output_type": "stream",
     "text": [
      "Función de activación no lineal\n",
      "Entrada: [-1  1], \tSalida: 1\n",
      "Entrada: [ 1 -1], \tSalida: 1\n",
      "Entrada: [-1 -1], \tSalida: -1\n",
      "Entrada: [1 1], \tSalida: -1\n"
     ]
    }
   ],
   "source": [
    "l1 = Layer(2, 2, activation_function=\"sigmoid\")\n",
    "l2 = Layer(2, 1, activation_function=\"linear\")\n",
    "nn = NN([l1, l2])\n",
    "\n",
    "x = np.array([[-1, 1], [1, -1], [-1, -1], [1, 1]])\n",
    "y = np.array([1, 1, -1, -1])\n",
    "\n",
    "nn.train(x, y, epochs=2000, learning_rate=0.1)\n",
    "\n",
    "print(\"Función de activación no lineal\")\n",
    "for xi in x:\n",
    "    print(f\"Entrada: {xi}, \\tSalida: {round(nn.forward(xi)[0])}\")"
   ]
  },
  {
   "cell_type": "code",
   "execution_count": 3,
   "id": "47955492",
   "metadata": {},
   "outputs": [
    {
     "name": "stdout",
     "output_type": "stream",
     "text": [
      "Función de activación lineal\n",
      "Entrada: [-1  1], \tSalida: 0\n",
      "Entrada: [ 1 -1], \tSalida: 0\n",
      "Entrada: [-1 -1], \tSalida: 0\n",
      "Entrada: [1 1], \tSalida: 0\n"
     ]
    }
   ],
   "source": [
    "l1 = Layer(2, 2, activation_function=\"linear\")\n",
    "l2 = Layer(2, 1, activation_function=\"linear\")\n",
    "nn = NN([l1, l2])\n",
    "\n",
    "x = np.array([[-1, 1], [1, -1], [-1, -1], [1, 1]])\n",
    "y = np.array([1, 1, -1, -1])\n",
    "\n",
    "nn.train(x, y, epochs=2000, learning_rate=0.1)\n",
    "\n",
    "print(\"Función de activación lineal\")\n",
    "for xi in x:\n",
    "    print(f\"Entrada: {xi}, \\tSalida: {round(nn.forward(xi)[0])}\")"
   ]
  },
  {
   "cell_type": "markdown",
   "id": "24462256",
   "metadata": {},
   "source": [
    "*Discriminación de paridad:* Particularmente este ejercicio presenta una región de separación de clases $\\{Par, Impar\\}$ que es periodica, lo cual utilizar una función del tipo no lineal aperiodica no permitirá generalizar correctamente."
   ]
  },
  {
   "cell_type": "code",
   "execution_count": 60,
   "id": "dec0a7bf",
   "metadata": {},
   "outputs": [
    {
     "data": {
      "image/png": "[encoded data removed]",
      "text/plain": [
       "<Figure size 432x288 with 1 Axes>"
      ]
     },
     "metadata": {
      "needs_background": "light"
     },
     "output_type": "display_data"
    }
   ],
   "source": [
    "x = np.array([xi for xi in range(10)])\n",
    "y = x.reshape(-1) % 2\n",
    "\n",
    "for pts in zip(x, y):\n",
    "    plt.scatter(pts[0], 0, color=\"red\" if pts[-1] == 1 else \"blue\")\n",
    "\n",
    "plt.ylim(-2, 2)\n",
    "plt.show()"
   ]
  },
  {
   "cell_type": "markdown",
   "id": "699f15bc",
   "metadata": {},
   "source": [
    "Una posible idea puede ser utilizar una función periodica, como la función $y = cos(w\\cdot x)$.\n",
    "De un analisis simple para conjunto de numeros enteros, podemos encontrar que con $w = (2k+1)\\pi$ se obtiene una correcta separación del espacio solución."
   ]
  },
  {
   "cell_type": "code",
   "execution_count": 58,
   "id": "58833bea",
   "metadata": {},
   "outputs": [
    {
     "data": {
      "image/png": "[encoded data removed]",
      "text/plain": [
       "<Figure size 432x288 with 1 Axes>"
      ]
     },
     "metadata": {
      "needs_background": "light"
     },
     "output_type": "display_data"
    }
   ],
   "source": [
    "x = np.array([xi for xi in range(10)])\n",
    "y = x.reshape(-1) % 2\n",
    "\n",
    "for pts in zip(x, y):\n",
    "    plt.scatter(pts[0], 0, color=\"red\" if pts[-1] == 1 else \"blue\")\n",
    "\n",
    "x_range = np.arange(1, 10, 0.01)\n",
    "\n",
    "k = 0\n",
    "w = (2*k + 1) * np.pi\n",
    "cos_x = np.cos(w * x_range)\n",
    "\n",
    "plt.fill_between(x_range, cos_x,  2, alpha=0.2, color=\"red\")\n",
    "plt.fill_between(x_range, cos_x, -2, alpha=0.2, color=\"blue\")\n",
    "plt.plot(x_range, cos_x)\n",
    "plt.show()"
   ]
  },
  {
   "cell_type": "markdown",
   "id": "e129ea06",
   "metadata": {},
   "source": [
    "Para este caso la estructura de la red es tan simple como una capa de perceptron no-lineal con una función cosenoidal y la capa de salida una función logistica para tener los valores entre $0: Par, 1: Impar$"
   ]
  },
  {
   "cell_type": "code",
   "execution_count": 61,
   "id": "1f5f232f",
   "metadata": {},
   "outputs": [
    {
     "name": "stdout",
     "output_type": "stream",
     "text": [
      "Entrada: [0], \tSalida: 0\n",
      "Entrada: [1], \tSalida: 1\n",
      "Entrada: [2], \tSalida: 0\n",
      "Entrada: [3], \tSalida: 1\n",
      "Entrada: [4], \tSalida: 0\n",
      "Entrada: [5], \tSalida: 1\n",
      "Entrada: [6], \tSalida: 0\n",
      "Entrada: [7], \tSalida: 1\n",
      "Entrada: [8], \tSalida: 0\n",
      "Entrada: [9], \tSalida: 1\n"
     ]
    }
   ],
   "source": [
    "l1 = Layer(1, 1, activation_function=\"cosine\")\n",
    "l2 = Layer(1, 1, activation_function=\"sigmoid\")\n",
    "nn = NN([l1, l2])\n",
    "\n",
    "x = np.array([[xi] for xi in range(10)])\n",
    "y = x.reshape(-1) % 2\n",
    "\n",
    "# Inicializamos los pesos con valores no aleatorios\n",
    "k = 0\n",
    "w = (2*k + 1) * np.pi\n",
    "l1.w = np.array([[w]])\n",
    " \n",
    "nn.train(x, y, epochs=2000, learning_rate=0.01)\n",
    "\n",
    "for xi in x:\n",
    "    print(f\"Entrada: {xi}, \\tSalida: {round(nn.forward(xi)[0])}\")"
   ]
  },
  {
   "cell_type": "markdown",
   "id": "b8cfe7b8",
   "metadata": {},
   "source": [
    "Otra opción es prepocesar los datos de otra manera, quizas representar el numero como un vector que sea su representación en base 2 sería una conveniente representación de la información. La gracia de esto es que el ultimo bit será 0 o 1 y se podrá determinar facilmente la paridad con ese valor."
   ]
  },
  {
   "cell_type": "code",
   "execution_count": 95,
   "id": "ed8d2859",
   "metadata": {},
   "outputs": [
    {
     "name": "stdout",
     "output_type": "stream",
     "text": [
      "Entrada: [0], \tSalida: [-0.]\n",
      "Entrada: [1], \tSalida: [1.]\n",
      "Entrada: [2], \tSalida: [-0.]\n",
      "Entrada: [3], \tSalida: [1.]\n",
      "Entrada: [4], \tSalida: [-0.]\n",
      "Entrada: [5], \tSalida: [1.]\n",
      "Entrada: [6], \tSalida: [-0.]\n",
      "Entrada: [7], \tSalida: [1.]\n",
      "Entrada: [8], \tSalida: [-0.]\n",
      "Entrada: [9], \tSalida: [1.]\n"
     ]
    }
   ],
   "source": [
    "x = np.array([[xi] for xi in range(10)])\n",
    "y = x.reshape(-1) % 2\n",
    "\n",
    "x_transformed = []\n",
    "vector_size = x.max() // 2\n",
    "to_base2_vector = lambda x: [int(d) for d in np.base_repr(x, base=2).zfill(vector_size)]\n",
    "\n",
    "x_transformed = np.array([to_base2_vector(xi[0]) for xi in x])\n",
    "y_transformed = y\n",
    "\n",
    "l1 = Layer(vector_size, 1, activation_function=\"linear\")\n",
    "nn = NN([l1])\n",
    "\n",
    "nn.train(x_transformed, y_transformed, epochs=2000, learning_rate=0.1)\n",
    "\n",
    "for xi in x:\n",
    "    print(f\"Entrada: {xi}, \\tSalida: {np.round(nn.forward(to_base2_vector(xi[0])))}\")"
   ]
  },
  {
   "cell_type": "markdown",
   "id": "f64e9aca",
   "metadata": {},
   "source": [
    "Notesé que el problema ahora es facilmente separable con un plano."
   ]
  },
  {
   "cell_type": "code",
   "execution_count": 93,
   "id": "a21d526c",
   "metadata": {},
   "outputs": [
    {
     "data": {
      "image/png": "[encoded data removed]",
      "text/plain": [
       "<Figure size 432x288 with 1 Axes>"
      ]
     },
     "metadata": {
      "needs_background": "light"
     },
     "output_type": "display_data"
    }
   ],
   "source": [
    "fig = plt.figure()\n",
    "ax = fig.add_subplot(projection='3d')\n",
    "\n",
    "for xi in x_transformed:\n",
    "    ax.scatter(xi[1], xi[2], xi[3], color=\"red\" if xi[-1] == 1 else \"blue\")"
   ]
  },
  {
   "cell_type": "markdown",
   "id": "66f5c0f0",
   "metadata": {},
   "source": [
    "# Conclusiones\n",
    "\n",
    "Como principales conclusiones de este trabajo arribamos a que:\n",
    "\n",
    "* El perceptrón no lineal demuestra su capacidad para resolver problemas no linealmente separables, como el caso clásico del XOR, algo que el perceptrón lineal no puede lograr.\n",
    "\n",
    "* La elección adecuada de la función de activación es crucial para capturar la no linealidad presente en problemas como XOR y paridad.\n",
    "\n",
    "* Es importante contar con una idea clara del problema a resolver para poder elegir adecuadamente la representación de la información de entrada.\n",
    "\n",
    "* El tratamiento previo de los datos es fundamental para lograr una representación útil y efectiva que facilite el aprendizaje del modelo."
   ]
  },
  {
   "cell_type": "markdown",
   "id": "93fbff8f",
   "metadata": {},
   "source": [
    "> No se realiza la discriminación de dígito ya que es analizado en el ejercicio 4"
   ]
  }
 ],
 "metadata": {
  "kernelspec": {
   "display_name": "Python 3",
   "language": "python",
   "name": "python3"
  },
  "language_info": {
   "codemirror_mode": {
    "name": "ipython",
    "version": 3
   },
   "file_extension": ".py",
   "mimetype": "text/x-python",
   "name": "python",
   "nbconvert_exporter": "python",
   "pygments_lexer": "ipython3",
   "version": "undefined.undefined.undefined"
  }
 },
 "nbformat": 4,
 "nbformat_minor": 5
}
