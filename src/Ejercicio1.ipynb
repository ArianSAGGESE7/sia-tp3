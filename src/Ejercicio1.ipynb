{
 "cells": [
  {
   "cell_type": "markdown",
   "id": "855ef0af",
   "metadata": {},
   "source": [
    "# Ejercicio 1"
   ]
  },
  {
   "cell_type": "code",
   "execution_count": 1,
   "id": "ce57644d",
   "metadata": {},
   "outputs": [],
   "source": [
    "import numpy as np\n",
    "import matplotlib.pyplot as plt"
   ]
  },
  {
   "cell_type": "code",
   "execution_count": 2,
   "id": "4f95906e",
   "metadata": {},
   "outputs": [],
   "source": [
    "def step(x):\n",
    "    return 1 if x >= 0 else -1\n",
    "\n",
    "\n",
    "class PerceptronSimple:\n",
    "    learning_rate = 0.1\n",
    "    activation = step\n",
    "\n",
    "    def __init__(self, input_size):\n",
    "        #self.weights = np.zeros(input_size + 1) # El 1 es por el bias\n",
    "        self.weights = np.random.random(input_size + 1) # El 1 es por el bias\n",
    "        \n",
    "    def predict(self, x):\n",
    "        x = np.insert(x, 0, 1) # El bias es x_0 * 1.0\n",
    "        z = np.dot(self.weights, x)\n",
    "        return step(z)\n",
    "\n",
    "    def train(self, x, y, epochs=10):\n",
    "        for _ in range(epochs):\n",
    "            for xi, target in zip(x, y):\n",
    "                xi = np.insert(xi, 0, 1)  # add bias input\n",
    "                prediction = step(np.dot(self.weights, xi))\n",
    "                self.weights += 2 * self.learning_rate * (target - prediction) * xi\n"
   ]
  },
  {
   "cell_type": "markdown",
   "id": "568e9686",
   "metadata": {},
   "source": [
    "Función lógica \"AND\""
   ]
  },
  {
   "cell_type": "code",
   "execution_count": 3,
   "id": "88cc018c",
   "metadata": {},
   "outputs": [
    {
     "name": "stdout",
     "output_type": "stream",
     "text": [
      "Entrada: [-1  1], \tSalida: -1\n",
      "Entrada: [ 1 -1], \tSalida: -1\n",
      "Entrada: [-1 -1], \tSalida: -1\n",
      "Entrada: [1 1], \tSalida: 1\n"
     ]
    }
   ],
   "source": [
    "x = np.array([[-1, 1], [1, -1], [-1, -1], [1, 1]])\n",
    "y = np.array([-1, -1, -1, 1])\n",
    "\n",
    "perceptron = PerceptronSimple(input_size=2)\n",
    "perceptron.train(x, y, epochs=5)\n",
    "\n",
    "for xi in x:\n",
    "    print(f\"Entrada: {xi}, \\tSalida: {perceptron.predict(xi)}\")"
   ]
  },
  {
   "cell_type": "code",
   "execution_count": 4,
   "id": "ef71c16a",
   "metadata": {},
   "outputs": [
    {
     "data": {
      "image/png": "[encoded data removed]",
      "text/plain": [
       "<Figure size 432x288 with 1 Axes>"
      ]
     },
     "metadata": {
      "needs_background": "light"
     },
     "output_type": "display_data"
    }
   ],
   "source": [
    "for i in range(4):\n",
    "    color = \"red\" if y[i] == 1 else \"blue\"\n",
    "    plt.scatter(x[i][0], x[i][1], color=color, s=200)\n",
    "\n",
    "b, mx, my = perceptron.weights\n",
    "x_boundary = np.linspace(-2, 2, 2, endpoint=bool)\n",
    "if mx * my == 0:\n",
    "    y_boundary = -np.ones_like(x_boundary) * b\n",
    "else:\n",
    "    y_boundary = -mx/my * x_boundary - b/my\n",
    "\n",
    "plt.plot(x_boundary, y_boundary, linestyle=\"--\", color=\"k\")\n",
    "plt.fill_between(x_boundary, y_boundary, -3, color=\"blue\", alpha=0.2, label=\"-1\")\n",
    "plt.fill_between(x_boundary, y_boundary, 3, color=\"red\", alpha=0.2, label=\"1\")\n",
    "plt.legend(bbox_to_anchor=[1.1, 0.5], loc='center')\n",
    "plt.grid()\n",
    "plt.title(\"Regiones de decisión\")\n",
    "plt.xlim(-1.5, 1.5)\n",
    "plt.ylim(-1.5, 1.5)\n",
    "plt.show()"
   ]
  },
  {
   "cell_type": "markdown",
   "id": "4e83680a",
   "metadata": {},
   "source": [
    "Función lógica \"XOR\""
   ]
  },
  {
   "cell_type": "code",
   "execution_count": 9,
   "id": "b54e7bc5",
   "metadata": {},
   "outputs": [
    {
     "name": "stdout",
     "output_type": "stream",
     "text": [
      "Entrada: [-1  1], \tSalida: -1\n",
      "Entrada: [ 1 -1], \tSalida: 1\n",
      "Entrada: [-1 -1], \tSalida: 1\n",
      "Entrada: [1 1], \tSalida: -1\n"
     ]
    }
   ],
   "source": [
    "x = np.array([[-1, 1], [1, -1], [-1, -1], [1, 1]])\n",
    "y = np.array([1, 1, -1, -1])\n",
    "\n",
    "perceptron = PerceptronSimple(input_size=2)\n",
    "perceptron.train(x, y, epochs=5)\n",
    "\n",
    "for xi in x:\n",
    "    print(f\"Entrada: {xi}, \\tSalida: {perceptron.predict(xi)}\")"
   ]
  },
  {
   "cell_type": "code",
   "execution_count": 10,
   "id": "0361459b",
   "metadata": {},
   "outputs": [
    {
     "data": {
      "image/png": "[encoded data removed]",
      "text/plain": [
       "<Figure size 432x288 with 1 Axes>"
      ]
     },
     "metadata": {
      "needs_background": "light"
     },
     "output_type": "display_data"
    }
   ],
   "source": [
    "for i in range(4):\n",
    "    color = \"red\" if y[i] == 1 else \"blue\"\n",
    "    plt.scatter(x[i][0], x[i][1], color=color, s=200)\n",
    "\n",
    "b, mx, my = perceptron.weights\n",
    "x_boundary = np.linspace(-2, 2, 2, endpoint=bool)\n",
    "\n",
    "if mx * my == 0:\n",
    "    y_boundary = -np.ones_like(x_boundary) * b\n",
    "else:\n",
    "    y_boundary = -mx/my * x_boundary - b/my\n",
    "\n",
    "plt.plot(x_boundary, y_boundary, linestyle=\"--\", color=\"k\")\n",
    "plt.fill_between(x_boundary, y_boundary, -3, color=\"blue\", alpha=0.2, label=\"-1\")\n",
    "plt.fill_between(x_boundary, y_boundary, 3, color=\"red\", alpha=0.2, label=\"1\")\n",
    "plt.legend(bbox_to_anchor=[1.1, 0.5], loc='center')\n",
    "plt.grid()\n",
    "plt.title(\"Regiones de decisión\")\n",
    "plt.xlim(-1.5, 1.5)\n",
    "plt.ylim(-1.5, 1.5)\n",
    "plt.show()"
   ]
  },
  {
   "cell_type": "markdown",
   "id": "0cfaacb6",
   "metadata": {},
   "source": [
    "El perceptron no puede separar correctamente la función lógica \"XOR\" porque el espacio de caracteristicas no es lineal. Se deberián recurrir a más fronteras para separar el problema.\n",
    "\n",
    "Eso se puede hacer componiendo el problema con dos perceptrones y una función \"AND\" adicional."
   ]
  },
  {
   "cell_type": "code",
   "execution_count": 7,
   "id": "e628c9a4",
   "metadata": {},
   "outputs": [
    {
     "name": "stdout",
     "output_type": "stream",
     "text": [
      "Entrada: [-1  1], \tSalida p1: -1\n",
      "\t\t\tSalida p2: -1\n",
      "\t\t\t----------\n",
      "\t\t\tSalida: 1\n",
      "\n",
      "Entrada: [ 1 -1], \tSalida p1: -1\n",
      "\t\t\tSalida p2: -1\n",
      "\t\t\t----------\n",
      "\t\t\tSalida: 1\n",
      "\n",
      "Entrada: [-1 -1], \tSalida p1: -1\n",
      "\t\t\tSalida p2: 1\n",
      "\t\t\t----------\n",
      "\t\t\tSalida: -1\n",
      "\n",
      "Entrada: [1 1], \tSalida p1: 1\n",
      "\t\t\tSalida p2: -1\n",
      "\t\t\t----------\n",
      "\t\t\tSalida: -1\n",
      "\n"
     ]
    }
   ],
   "source": [
    "x = np.array([[-1, 1], [1, -1], [-1, -1], [1, 1]])\n",
    "y1 = np.array([-1, -1, -1, 1])\n",
    "y2 = np.array([-1, -1, 1, -1])\n",
    "\n",
    "perceptron1 = PerceptronSimple(input_size=2)\n",
    "perceptron1.train(x, y1, epochs=5)\n",
    "\n",
    "perceptron2 = PerceptronSimple(input_size=2)\n",
    "perceptron2.train(x, y2, epochs=5)\n",
    "\n",
    "for xi in x:\n",
    "    print(f\"Entrada: {xi}, \\tSalida p1: {perceptron1.predict(xi)}\")\n",
    "    print(f\"\\t\\t\\tSalida p2: {perceptron2.predict(xi)}\")\n",
    "    print(\"\\t\"*3 + \"-\"*10)\n",
    "    print(\"\\t\"*3 + \"Salida:\", perceptron2.predict(xi) * perceptron1.predict(xi))\n",
    "    print()\n",
    "    "
   ]
  },
  {
   "cell_type": "code",
   "execution_count": 8,
   "id": "871fceca",
   "metadata": {},
   "outputs": [
    {
     "data": {
      "image/png": "[encoded data removed]",
      "text/plain": [
       "<Figure size 432x288 with 1 Axes>"
      ]
     },
     "metadata": {
      "needs_background": "light"
     },
     "output_type": "display_data"
    }
   ],
   "source": [
    "for i in range(4):\n",
    "    color = \"red\" if y[i] == 1 else \"blue\"\n",
    "    plt.scatter(x[i][0], x[i][1], color=color, s=200)\n",
    "\n",
    "b, mx, my = perceptron1.weights\n",
    "x_boundary1 = np.linspace(-2, 2, 2, endpoint=bool)\n",
    "if mx * my == 0:\n",
    "    y_boundary1 = -np.ones_like(x_boundary1) * b\n",
    "else:\n",
    "    y_boundary1 = -mx/my * x_boundary1 - b/my\n",
    "plt.plot(x_boundary1, y_boundary1, linestyle=\"--\", color=\"r\")\n",
    "plt.fill_between(x_boundary1, y_boundary1, -3, color=\"none\", edgecolor=\"k\", label=\"p1 -1\", hatch=\"/\")\n",
    "plt.fill_between(x_boundary1, y_boundary1, 3, color=\"red\", alpha=0.3, label=\"p1  1\")\n",
    "\n",
    "b, mx, my = perceptron2.weights\n",
    "x_boundary2 = np.linspace(-2, 2, 2, endpoint=bool)\n",
    "if mx * my == 0:\n",
    "    y_boundary2 = -np.ones_like(x_boundary2) * b\n",
    "else:\n",
    "    y_boundary2 = -mx/my * x_boundary2 - b/my\n",
    "plt.plot(x_boundary2, y_boundary2, linestyle=\"--\", color=\"b\")\n",
    "plt.fill_between(x_boundary2, y_boundary2, -3, color=\"blue\", alpha=0.3, label=\"p2  1\")\n",
    "plt.fill_between(x_boundary2, y_boundary2, 3, color=\"none\", edgecolor=\"k\", label=\"p2 -1\", hatch=\"\\\\\")\n",
    "\n",
    "\n",
    "plt.legend(bbox_to_anchor=[1.1, 0.5], loc='center')\n",
    "plt.grid()\n",
    "plt.title(\"Regiones de decisión\")\n",
    "plt.xlim(-1.5, 1.5)\n",
    "plt.ylim(-1.5, 1.5)\n",
    "plt.show()"
   ]
  }
 ],
 "metadata": {
  "kernelspec": {
   "display_name": "base",
   "language": "python",
   "name": "python3"
  },
  "language_info": {
   "codemirror_mode": {
    "name": "ipython",
    "version": 3
   },
   "file_extension": ".py",
   "mimetype": "text/x-python",
   "name": "python",
   "nbconvert_exporter": "python",
   "pygments_lexer": "ipython3",
   "version": "3.9.12"
  }
 },
 "nbformat": 4,
 "nbformat_minor": 5
}
